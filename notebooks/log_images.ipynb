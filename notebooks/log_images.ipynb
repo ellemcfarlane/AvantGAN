{
 "cells": [
  {
   "cell_type": "code",
   "execution_count": 2,
   "metadata": {},
   "outputs": [
    {
     "name": "stderr",
     "output_type": "stream",
     "text": [
      "\u001b[34m\u001b[1mwandb\u001b[0m: Currently logged in as: \u001b[33mellesummer\u001b[0m (\u001b[33melles\u001b[0m). Use \u001b[1m`wandb login --relogin`\u001b[0m to force relogin\n"
     ]
    },
    {
     "data": {
      "text/html": [
       "wandb version 0.17.2 is available!  To upgrade, please run:\n",
       " $ pip install wandb --upgrade"
      ],
      "text/plain": [
       "<IPython.core.display.HTML object>"
      ]
     },
     "metadata": {},
     "output_type": "display_data"
    },
    {
     "data": {
      "text/html": [
       "Tracking run with wandb version 0.16.6"
      ],
      "text/plain": [
       "<IPython.core.display.HTML object>"
      ]
     },
     "metadata": {},
     "output_type": "display_data"
    },
    {
     "data": {
      "text/html": [
       "Run data is saved locally in <code>/Users/ellemcfarlane/Documents/AvantGAN/notebooks/wandb/run-20240624_143728-fp9jp9je</code>"
      ],
      "text/plain": [
       "<IPython.core.display.HTML object>"
      ]
     },
     "metadata": {},
     "output_type": "display_data"
    },
    {
     "data": {
      "text/html": [
       "Syncing run <strong><a href='https://wandb.ai/elles/avantGAN/runs/fp9jp9je' target=\"_blank\">snowy-armadillo-81</a></strong> to <a href='https://wandb.ai/elles/avantGAN' target=\"_blank\">Weights & Biases</a> (<a href='https://wandb.me/run' target=\"_blank\">docs</a>)<br/>"
      ],
      "text/plain": [
       "<IPython.core.display.HTML object>"
      ]
     },
     "metadata": {},
     "output_type": "display_data"
    },
    {
     "data": {
      "text/html": [
       " View project at <a href='https://wandb.ai/elles/avantGAN' target=\"_blank\">https://wandb.ai/elles/avantGAN</a>"
      ],
      "text/plain": [
       "<IPython.core.display.HTML object>"
      ]
     },
     "metadata": {},
     "output_type": "display_data"
    },
    {
     "data": {
      "text/html": [
       " View run at <a href='https://wandb.ai/elles/avantGAN/runs/fp9jp9je' target=\"_blank\">https://wandb.ai/elles/avantGAN/runs/fp9jp9je</a>"
      ],
      "text/plain": [
       "<IPython.core.display.HTML object>"
      ]
     },
     "metadata": {},
     "output_type": "display_data"
    },
    {
     "data": {
      "text/html": [
       " View run <strong style=\"color:#cdcd00\">snowy-armadillo-81</strong> at: <a href='https://wandb.ai/elles/avantGAN/runs/fp9jp9je' target=\"_blank\">https://wandb.ai/elles/avantGAN/runs/fp9jp9je</a><br/> View project at: <a href='https://wandb.ai/elles/avantGAN' target=\"_blank\">https://wandb.ai/elles/avantGAN</a><br/>Synced 5 W&B file(s), 8 media file(s), 0 artifact file(s) and 0 other file(s)"
      ],
      "text/plain": [
       "<IPython.core.display.HTML object>"
      ]
     },
     "metadata": {},
     "output_type": "display_data"
    },
    {
     "data": {
      "text/html": [
       "Find logs at: <code>./wandb/run-20240624_143728-fp9jp9je/logs</code>"
      ],
      "text/plain": [
       "<IPython.core.display.HTML object>"
      ]
     },
     "metadata": {},
     "output_type": "display_data"
    }
   ],
   "source": [
    "import wandb\n",
    "\n",
    "# Start a new run (you can also attach to an existing run)\n",
    "wandb.init(project=\"avantGAN\", entity=\"elles\")\n",
    "\n",
    "# Log images\n",
    "images = [\n",
    "    wandb.Image(\"../samples/stylegan3/fakes000000.png\", caption=\"epoch0\"),\n",
    "    wandb.Image(\"../samples/stylegan3/fakes000080.png\", caption=\"epoch80\"),\n",
    "    wandb.Image(\"../samples/stylegan3/fakes000160.png\", caption=\"epoch160\"),\n",
    "    wandb.Image(\"../samples/stylegan3/fakes000240.png\", caption=\"epoch240\"),\n",
    "    wandb.Image(\"../samples/stylegan3/fakes000320.png\", caption=\"epoch320\"),\n",
    "    wandb.Image(\"../samples/stylegan3/fakes000400.png\", caption=\"epoch400\"),\n",
    "    wandb.Image(\"../samples/stylegan3/fakes000480.png\", caption=\"epoch480\"),\n",
    "    wandb.Image(\"../samples/stylegan3/fakes000560.png\", caption=\"epoch560\"),\n",
    "]\n",
    "\n",
    "# Log images to wandb\n",
    "for img in images:\n",
    "    wandb.log({\"stylegan3_samples\": img})\n",
    "\n",
    "# Finish the run\n",
    "wandb.finish()"
   ]
  },
  {
   "cell_type": "code",
   "execution_count": null,
   "metadata": {},
   "outputs": [],
   "source": []
  }
 ],
 "metadata": {
  "kernelspec": {
   "display_name": "Python 3",
   "language": "python",
   "name": "python3"
  },
  "language_info": {
   "codemirror_mode": {
    "name": "ipython",
    "version": 3
   },
   "file_extension": ".py",
   "mimetype": "text/x-python",
   "name": "python",
   "nbconvert_exporter": "python",
   "pygments_lexer": "ipython3",
   "version": "3.8.18"
  }
 },
 "nbformat": 4,
 "nbformat_minor": 2
}
